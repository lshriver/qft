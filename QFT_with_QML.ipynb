{
 "cells": [
  {
   "cell_type": "code",
   "execution_count": 1,
   "metadata": {},
   "outputs": [],
   "source": [
    "# Task 1: Import libraries\n",
    "import pennylane as qml\n",
    "from pennylane import numpy as np"
   ]
  },
  {
   "cell_type": "markdown",
   "metadata": {},
   "source": [
    "Create a function that generates the Quantum Fourier Transform of a number $m$ via a quantum circuit with $n$-qubits\n",
    "- Arguments:\n",
    "  - `n`: The number of qubits in the variational quantum circuit\n",
    "  - `m`: The number used to train the variational quantum circuit. Its values ranges from $0$ to $2^n - 1$\n",
    "  - `steps`: The number of iterations during the optimization process\n",
    "  - `learning_rate`: The step size of the optimizer; its default value should be set to 0.01\n",
    "- Return values:\n",
    "  - `circuit`: The variational quantum circuit comprizing $n$ qubits\n",
    "  - `param_arr`: Consists of the parameter values after each optimization step\n",
    "    - Shape = `(steps, n)`\n",
    "  - `cost_arr`: Consists of the cost value of the circuit after each optimization step\n",
    "    - Size = `n`\n",
    "  - `cost`: The cost function"
   ]
  },
  {
   "cell_type": "code",
   "execution_count": 2,
   "metadata": {},
   "outputs": [],
   "source": [
    "def qft_via_qml(n: int, m: int, steps: int, learning_rate = 0.01):\n",
    "    # Task 2: Load a Quantum Device\n",
    "    \n",
    "    # Task 3-6: Create the Quantum Circuit\n",
    "    \n",
    "    # Task 7: Create the Cost Function\n",
    "    \n",
    "    # Task 8: Initialize the Optimizer\n",
    "    \n",
    "    # Task 9: Construct the Optimization Block\n",
    "    \n",
    "    return circuit, param_arr, cost_arr, cost"
   ]
  },
  {
   "cell_type": "code",
   "execution_count": null,
   "metadata": {},
   "outputs": [],
   "source": [
    "# Task 10: Test the Optimizer\n"
   ]
  },
  {
   "cell_type": "code",
   "execution_count": null,
   "metadata": {},
   "outputs": [],
   "source": [
    "# Task 11: Visualize the Optimization Process"
   ]
  }
 ],
 "metadata": {
  "language_info": {
   "name": "python"
  }
 },
 "nbformat": 4,
 "nbformat_minor": 2
}
