{
 "cells": [
  {
   "cell_type": "code",
   "execution_count": 1,
   "metadata": {},
   "outputs": [],
   "source": [
    "# Task 1: Import libraries\n",
    "import pennylane as qml\n",
    "from pennylane import numpy as np"
   ]
  },
  {
   "cell_type": "markdown",
   "metadata": {},
   "source": [
    "Create a function that generates the Quantum Fourier Transform of a number $m$ via a quantum circuit with $n$-qubits\n",
    "- Arguments:\n",
    "  - `n`: The number of qubits in the variational quantum circuit\n",
    "  - `m`: The number used to train the variational quantum circuit. Its values ranges from $0$ to $2^n - 1$\n",
    "  - `steps`: The number of iterations during the optimization process\n",
    "  - `learning_rate`: The step size of the optimizer; its default value should be set to 0.01\n",
    "- Return values:\n",
    "  - `circuit`: The variational quantum circuit comprizing $n$ qubits\n",
    "  - `param_arr`: Consists of the parameter values after each optimization step\n",
    "    - Shape = `(steps, n)`\n",
    "  - `cost_arr`: Consists of the cost value of the circuit after each optimization step\n",
    "    - Size = `n`\n",
    "  - `cost`: The cost function\n",
    "  \n",
    "📝Notes:\n",
    "- The angles of rotation of the $R_z$ gates are the parameters to be optimzied\n",
    "- For tasks 3-6,\n",
    "  - Apply a Hadamard gate to all qubits\n",
    "  - Apply a $R_z$ gate to all qubits\n",
    "  - The inverse QFT is applied to `wires` to evaluate the error in the quantum circuit\n",
    "    - The QFT is a unitary matrix, so its inverse is equal to its adjoint\n",
    "  - Task 5: Modify the `circuit()` f unction so that you can add a quantum measurement as the return value\n",
    "    - This measurement should evaluate the probability distribution of the qubits' states\n",
    "  - Task 6: Create a function wrapper, or `model` around the `circuit()` function with the quantum device using `dev` as the argument\n",
    "- Task 7: Create the cost function that evaluates the error value of the actual state\n",
    "  - The ultimate goal of the quantum circuit is to retrieve the quantum state corresponding to `m`.\n",
    "\n",
    "🔰 Review: The Cost Function\n",
    "- Recall the formula for the mean square error\n",
    "$$MSE = \\sum_{i}{(y_i-y_i')^2}$$\n",
    "  - $y_i=$ the $i^\\text{th}$ element of the cost array\n",
    "  - $y_i'=$ the $i^\\text{th}$ element of the predicted array\n",
    "    - For this project, `y` wil be `y[m]=1` and `y[i]=0` $\\forall \\ i\\neq m$."
   ]
  },
  {
   "cell_type": "code",
   "execution_count": 18,
   "metadata": {},
   "outputs": [],
   "source": [
    "def qft_via_qml(n: int, m: int, steps: int, learning_rate = 0.01):\n",
    "    # Task 2: Load a Quantum Device\n",
    "    dev = qml.device('default.qubit', wires = n)\n",
    "    # Task 3-6: Create the Quantum Circuit\n",
    "    @qml.qnode(dev)\n",
    "    def circuit(theta) -> float:\n",
    "        for i in range(n):\n",
    "            qml.Hadamard(wires = i)\n",
    "            qml.RZ(theta[i], wires=i)\n",
    "        qml.adjoint(qml.QFT)(wires=range(n))    # apply the inverse QFT matrix\n",
    "        return qml.probs(wires=range(n))        # probability distribution of qubit states\n",
    "    # Task 7: Create the Cost Function\n",
    "    def cost(params) -> float:\n",
    "        y = np.zeros(2**n)\n",
    "        y[m] = 1\n",
    "        probs = circuit(params)\n",
    "        return np.sum(np.square((y-probs)))    \n",
    "    # Task 8: Initialize the Optimizer\n",
    "    opt = qml.RMSPropOptimizer(stepsize=learning_rate)\n",
    "    # Task 9: Construct the Optimization Block\n",
    "    # Set the initial value of the parameter\n",
    "    params = np.zeros(n)\n",
    "    param_arr = np.empty([steps, n])\n",
    "    cost_arr = np.empty(steps)\n",
    "    # Optimization\n",
    "    for i in range(steps):\n",
    "        params = opt.step(cost, params)\n",
    "        param_arr[i] = params\n",
    "        cost_arr[i] = cost(params)\n",
    "    # Print the results\n",
    "    print(\"Optimized rotation angles: \", params)\n",
    "    print(\"Cost value at optimized parameters: \", cost(params))\n",
    "    \n",
    "    return circuit, param_arr, cost_arr, cost"
   ]
  },
  {
   "cell_type": "code",
   "execution_count": 19,
   "metadata": {},
   "outputs": [
    {
     "name": "stdout",
     "output_type": "stream",
     "text": [
      "Optimized rotation angles:  [0. 0.]\n",
      "Cost value at optimized parameters:  1.9999999999999991\n"
     ]
    }
   ],
   "source": [
    "# Task 10: Test the Optimizer\n",
    "circuit, param_arr, cost_arr, cost = qft_via_qml(2, 3, 500)"
   ]
  },
  {
   "cell_type": "code",
   "execution_count": 20,
   "metadata": {},
   "outputs": [
    {
     "ename": "ModuleNotFoundError",
     "evalue": "No module named 'surface_plot'",
     "output_type": "error",
     "traceback": [
      "\u001b[0;31m---------------------------------------------------------------------------\u001b[0m",
      "\u001b[0;31mModuleNotFoundError\u001b[0m                       Traceback (most recent call last)",
      "Cell \u001b[0;32mIn[20], line 2\u001b[0m\n\u001b[1;32m      1\u001b[0m \u001b[38;5;66;03m# Task 11: Visualize the Optimization Process\u001b[39;00m\n\u001b[0;32m----> 2\u001b[0m \u001b[38;5;28;01mfrom\u001b[39;00m \u001b[38;5;21;01msurface_plot\u001b[39;00m \u001b[38;5;28;01mimport\u001b[39;00m plot_opt_surface\n\u001b[1;32m      3\u001b[0m plot_opt_surface(cost_arr, param_arr, \u001b[38;5;241m3\u001b[39m, cost)\n",
      "\u001b[0;31mModuleNotFoundError\u001b[0m: No module named 'surface_plot'"
     ]
    }
   ],
   "source": [
    "# Task 11: Visualize the Optimization Process\n",
    "from surface_plot import plot_opt_surface\n",
    "plot_opt_surface(cost_arr, param_arr, 3, cost)"
   ]
  }
 ],
 "metadata": {
  "kernelspec": {
   "display_name": "venv",
   "language": "python",
   "name": "python3"
  },
  "language_info": {
   "codemirror_mode": {
    "name": "ipython",
    "version": 3
   },
   "file_extension": ".py",
   "mimetype": "text/x-python",
   "name": "python",
   "nbconvert_exporter": "python",
   "pygments_lexer": "ipython3",
   "version": "3.12.1"
  }
 },
 "nbformat": 4,
 "nbformat_minor": 2
}
