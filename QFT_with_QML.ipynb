{
 "cells": [
  {
   "cell_type": "code",
   "execution_count": 1,
   "metadata": {},
   "outputs": [],
   "source": [
    "# Task 1: Import libraries\n",
    "import pennylane as qml\n",
    "from pennylane import numpy as np"
   ]
  },
  {
   "cell_type": "markdown",
   "metadata": {},
   "source": [
    "Create a function that generates the Quantum Fourier Transform of a number $m$ via a quantum circuit with $n$-qubits\n",
    "- Arguments:\n",
    "  - `n`: The number of qubits in the variational quantum circuit\n",
    "  - `m`: The number used to train the variational quantum circuit. Its values ranges from $0$ to $2^n - 1$\n",
    "  - `steps`: The number of iterations during the optimization process\n",
    "  - `learning_rate`: The step size of the optimizer\n",
    "- Return values:\n",
    "  - `circuit`: The variational quantum circuit comprizing $n$ qubits\n",
    "  - `param_arr`: Consists of the parameter values after each optimization step\n",
    "    - Shape = `(steps, n)`\n",
    "  - `cost_arr`: Consists of the cost value of the circuit after each optimization step\n",
    "    - Size = `n`\n",
    "  - `cost`: The cost function"
   ]
  },
  {
   "cell_type": "code",
   "execution_count": null,
   "metadata": {},
   "outputs": [],
   "source": [
    "def qft_via_qml(n, m, steps, learning_rate = 0.01):\n",
    "    ''' A function to generate the Quantum Fourier Transform of a number m via a quantum circuit with n-qubits. \n",
    "    \n",
    "    Args:\n",
    "    n: It is the number of qubits in the variational quantum circuit.\n",
    "    m: It is the number used to train the variational quantum circuit. Its value ranges from 0 to 2^n - 1\n",
    "    steps: It is the number of iterations of the optimzation process.\n",
    "    learning_rate: This is the step size of the optimizer.\n",
    "    \n",
    "    Return value:\n",
    "    circuit: The variational quantum circuit comprising n qubits.\n",
    "    param_arr: Shape = (steps, n). It consists of the values of the parameters after each optimization step.\n",
    "    cost_arr: Size = n. It consists of the cost value of the circuit after each optimization step.\n",
    "    cost: The cost function\n",
    "    '''\n",
    "    # Task 2: Load a Quantum Device\n",
    "    \n",
    "    # Task 3-6: Create the Quantum Circuit\n",
    "    \n",
    "    # Task 7: Create the Cost Function\n",
    "    \n",
    "    # Task 8: Initialize the Optimizer\n",
    "    \n",
    "    # Task 9: Construct the Optimization Block\n",
    "    \n",
    "    return circuit, param_arr, cost_arr, cost"
   ]
  }
 ],
 "metadata": {
  "language_info": {
   "name": "python"
  }
 },
 "nbformat": 4,
 "nbformat_minor": 2
}
